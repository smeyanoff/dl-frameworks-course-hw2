{
 "cells": [
  {
   "cell_type": "code",
   "execution_count": 1,
   "metadata": {},
   "outputs": [],
   "source": [
    "import pandas as pd"
   ]
  },
  {
   "attachments": {},
   "cell_type": "markdown",
   "metadata": {},
   "source": [
    "### Data"
   ]
  },
  {
   "attachments": {},
   "cell_type": "markdown",
   "metadata": {},
   "source": [
    "#### Import Data"
   ]
  },
  {
   "cell_type": "code",
   "execution_count": 37,
   "metadata": {},
   "outputs": [
    {
     "name": "stderr",
     "output_type": "stream",
     "text": [
      "Skipping line 6565: expected 6 fields, saw 13\n",
      "\n"
     ]
    }
   ],
   "source": [
    "char_cols = [\"charID\", \"charName\", \"movieID\", \"mTitle\", \"sex\", \"credPos\"]\n",
    "characters = pd.read_csv(\n",
    "    \"./data/initial_data/movie_characters_metadata.tsv\", \n",
    "    sep=\"\\t\",\n",
    "    header=None,\n",
    "    on_bad_lines = 'warn'\n",
    ")\n",
    "characters.columns=char_cols"
   ]
  },
  {
   "cell_type": "code",
   "execution_count": 38,
   "metadata": {},
   "outputs": [
    {
     "data": {
      "text/html": [
       "<div>\n",
       "<style scoped>\n",
       "    .dataframe tbody tr th:only-of-type {\n",
       "        vertical-align: middle;\n",
       "    }\n",
       "\n",
       "    .dataframe tbody tr th {\n",
       "        vertical-align: top;\n",
       "    }\n",
       "\n",
       "    .dataframe thead th {\n",
       "        text-align: right;\n",
       "    }\n",
       "</style>\n",
       "<table border=\"1\" class=\"dataframe\">\n",
       "  <thead>\n",
       "    <tr style=\"text-align: right;\">\n",
       "      <th></th>\n",
       "      <th>charID</th>\n",
       "      <th>charName</th>\n",
       "      <th>movieID</th>\n",
       "      <th>mTitle</th>\n",
       "      <th>sex</th>\n",
       "      <th>credPos</th>\n",
       "    </tr>\n",
       "  </thead>\n",
       "  <tbody>\n",
       "    <tr>\n",
       "      <th>0</th>\n",
       "      <td>u0</td>\n",
       "      <td>BIANCA</td>\n",
       "      <td>m0</td>\n",
       "      <td>10 things i hate about you</td>\n",
       "      <td>f</td>\n",
       "      <td>4</td>\n",
       "    </tr>\n",
       "    <tr>\n",
       "      <th>1</th>\n",
       "      <td>u1</td>\n",
       "      <td>BRUCE</td>\n",
       "      <td>m0</td>\n",
       "      <td>10 things i hate about you</td>\n",
       "      <td>?</td>\n",
       "      <td>?</td>\n",
       "    </tr>\n",
       "    <tr>\n",
       "      <th>2</th>\n",
       "      <td>u2</td>\n",
       "      <td>CAMERON</td>\n",
       "      <td>m0</td>\n",
       "      <td>10 things i hate about you</td>\n",
       "      <td>m</td>\n",
       "      <td>3</td>\n",
       "    </tr>\n",
       "    <tr>\n",
       "      <th>3</th>\n",
       "      <td>u3</td>\n",
       "      <td>CHASTITY</td>\n",
       "      <td>m0</td>\n",
       "      <td>10 things i hate about you</td>\n",
       "      <td>?</td>\n",
       "      <td>?</td>\n",
       "    </tr>\n",
       "    <tr>\n",
       "      <th>4</th>\n",
       "      <td>u4</td>\n",
       "      <td>JOEY</td>\n",
       "      <td>m0</td>\n",
       "      <td>10 things i hate about you</td>\n",
       "      <td>m</td>\n",
       "      <td>6</td>\n",
       "    </tr>\n",
       "  </tbody>\n",
       "</table>\n",
       "</div>"
      ],
      "text/plain": [
       "  charID  charName movieID                      mTitle sex credPos\n",
       "0     u0    BIANCA      m0  10 things i hate about you   f       4\n",
       "1     u1     BRUCE      m0  10 things i hate about you   ?       ?\n",
       "2     u2   CAMERON      m0  10 things i hate about you   m       3\n",
       "3     u3  CHASTITY      m0  10 things i hate about you   ?       ?\n",
       "4     u4      JOEY      m0  10 things i hate about you   m       6"
      ]
     },
     "execution_count": 38,
     "metadata": {},
     "output_type": "execute_result"
    }
   ],
   "source": [
    "characters.head()"
   ]
  },
  {
   "cell_type": "code",
   "execution_count": 39,
   "metadata": {},
   "outputs": [],
   "source": [
    "convers_cols = [\"firstCharID\", \"secondCharID\", \"movieID\", \"utterances\"]\n",
    "conversations = pd.read_csv(\n",
    "    \"data/initial_data/movie_conversations.tsv\", \n",
    "    sep=\"\\t\",\n",
    "    header=None,\n",
    "    on_bad_lines = 'warn'\n",
    ")\n",
    "conversations.columns = convers_cols"
   ]
  },
  {
   "cell_type": "code",
   "execution_count": 40,
   "metadata": {},
   "outputs": [],
   "source": [
    "conversations[\"conv_list\"] = conversations[\"utterances\"].str.findall(r\"[L]\\d{1,}\")"
   ]
  },
  {
   "cell_type": "code",
   "execution_count": 41,
   "metadata": {},
   "outputs": [
    {
     "data": {
      "text/html": [
       "<div>\n",
       "<style scoped>\n",
       "    .dataframe tbody tr th:only-of-type {\n",
       "        vertical-align: middle;\n",
       "    }\n",
       "\n",
       "    .dataframe tbody tr th {\n",
       "        vertical-align: top;\n",
       "    }\n",
       "\n",
       "    .dataframe thead th {\n",
       "        text-align: right;\n",
       "    }\n",
       "</style>\n",
       "<table border=\"1\" class=\"dataframe\">\n",
       "  <thead>\n",
       "    <tr style=\"text-align: right;\">\n",
       "      <th></th>\n",
       "      <th>firstCharID</th>\n",
       "      <th>secondCharID</th>\n",
       "      <th>movieID</th>\n",
       "      <th>utterances</th>\n",
       "      <th>conv_list</th>\n",
       "    </tr>\n",
       "  </thead>\n",
       "  <tbody>\n",
       "    <tr>\n",
       "      <th>0</th>\n",
       "      <td>u0</td>\n",
       "      <td>u2</td>\n",
       "      <td>m0</td>\n",
       "      <td>['L194' 'L195' 'L196' 'L197']</td>\n",
       "      <td>[L194, L195, L196, L197]</td>\n",
       "    </tr>\n",
       "    <tr>\n",
       "      <th>1</th>\n",
       "      <td>u0</td>\n",
       "      <td>u2</td>\n",
       "      <td>m0</td>\n",
       "      <td>['L198' 'L199']</td>\n",
       "      <td>[L198, L199]</td>\n",
       "    </tr>\n",
       "    <tr>\n",
       "      <th>2</th>\n",
       "      <td>u0</td>\n",
       "      <td>u2</td>\n",
       "      <td>m0</td>\n",
       "      <td>['L200' 'L201' 'L202' 'L203']</td>\n",
       "      <td>[L200, L201, L202, L203]</td>\n",
       "    </tr>\n",
       "    <tr>\n",
       "      <th>3</th>\n",
       "      <td>u0</td>\n",
       "      <td>u2</td>\n",
       "      <td>m0</td>\n",
       "      <td>['L204' 'L205' 'L206']</td>\n",
       "      <td>[L204, L205, L206]</td>\n",
       "    </tr>\n",
       "    <tr>\n",
       "      <th>4</th>\n",
       "      <td>u0</td>\n",
       "      <td>u2</td>\n",
       "      <td>m0</td>\n",
       "      <td>['L207' 'L208']</td>\n",
       "      <td>[L207, L208]</td>\n",
       "    </tr>\n",
       "  </tbody>\n",
       "</table>\n",
       "</div>"
      ],
      "text/plain": [
       "  firstCharID secondCharID movieID                     utterances  \\\n",
       "0          u0           u2      m0  ['L194' 'L195' 'L196' 'L197']   \n",
       "1          u0           u2      m0                ['L198' 'L199']   \n",
       "2          u0           u2      m0  ['L200' 'L201' 'L202' 'L203']   \n",
       "3          u0           u2      m0         ['L204' 'L205' 'L206']   \n",
       "4          u0           u2      m0                ['L207' 'L208']   \n",
       "\n",
       "                  conv_list  \n",
       "0  [L194, L195, L196, L197]  \n",
       "1              [L198, L199]  \n",
       "2  [L200, L201, L202, L203]  \n",
       "3        [L204, L205, L206]  \n",
       "4              [L207, L208]  "
      ]
     },
     "execution_count": 41,
     "metadata": {},
     "output_type": "execute_result"
    }
   ],
   "source": [
    "conversations.head()"
   ]
  },
  {
   "cell_type": "code",
   "execution_count": 42,
   "metadata": {},
   "outputs": [
    {
     "name": "stderr",
     "output_type": "stream",
     "text": [
      "Skipping line 32288: expected 5 fields, saw 7\n",
      "Skipping line 32351: expected 5 fields, saw 6\n",
      "Skipping line 32390: expected 5 fields, saw 6\n",
      "Skipping line 32583: expected 5 fields, saw 6\n",
      "Skipping line 32585: expected 5 fields, saw 6\n",
      "Skipping line 35684: expected 5 fields, saw 6\n",
      "Skipping line 62132: expected 5 fields, saw 6\n",
      "Skipping line 86637: expected 5 fields, saw 6\n",
      "Skipping line 86722: expected 5 fields, saw 6\n",
      "Skipping line 86914: expected 5 fields, saw 6\n",
      "Skipping line 86960: expected 5 fields, saw 6\n",
      "Skipping line 87010: expected 5 fields, saw 6\n",
      "Skipping line 87011: expected 5 fields, saw 6\n",
      "Skipping line 87086: expected 5 fields, saw 6\n",
      "Skipping line 120607: expected 5 fields, saw 6\n",
      "Skipping line 120719: expected 5 fields, saw 7\n",
      "Skipping line 120739: expected 5 fields, saw 6\n",
      "Skipping line 120783: expected 5 fields, saw 6\n",
      "Skipping line 130284: expected 5 fields, saw 7\n",
      "Skipping line 131048: expected 5 fields, saw 6\n",
      "\n",
      "Skipping line 150955: expected 5 fields, saw 8\n",
      "Skipping line 162777: expected 5 fields, saw 11\n",
      "Skipping line 162778: expected 5 fields, saw 11\n",
      "Skipping line 162830: expected 5 fields, saw 9\n",
      "Skipping line 162864: expected 5 fields, saw 11\n",
      "Skipping line 162883: expected 5 fields, saw 8\n",
      "Skipping line 190170: expected 5 fields, saw 6\n",
      "Skipping line 195924: expected 5 fields, saw 6\n",
      "Skipping line 196054: expected 5 fields, saw 6\n",
      "Skipping line 196088: expected 5 fields, saw 6\n",
      "Skipping line 200335: expected 5 fields, saw 6\n",
      "Skipping line 200453: expected 5 fields, saw 6\n",
      "Skipping line 200863: expected 5 fields, saw 6\n",
      "Skipping line 200913: expected 5 fields, saw 6\n",
      "Skipping line 200934: expected 5 fields, saw 6\n",
      "Skipping line 200991: expected 5 fields, saw 6\n",
      "Skipping line 209214: expected 5 fields, saw 6\n",
      "Skipping line 209271: expected 5 fields, saw 6\n",
      "Skipping line 212476: expected 5 fields, saw 17\n",
      "Skipping line 212477: expected 5 fields, saw 12\n",
      "Skipping line 212490: expected 5 fields, saw 12\n",
      "Skipping line 212493: expected 5 fields, saw 10\n",
      "Skipping line 212514: expected 5 fields, saw 9\n",
      "Skipping line 212515: expected 5 fields, saw 12\n",
      "Skipping line 212556: expected 5 fields, saw 12\n",
      "Skipping line 212562: expected 5 fields, saw 8\n",
      "Skipping line 212567: expected 5 fields, saw 12\n",
      "Skipping line 212575: expected 5 fields, saw 12\n",
      "Skipping line 212582: expected 5 fields, saw 14\n",
      "Skipping line 212595: expected 5 fields, saw 11\n",
      "Skipping line 212600: expected 5 fields, saw 8\n",
      "Skipping line 212652: expected 5 fields, saw 11\n",
      "Skipping line 212655: expected 5 fields, saw 8\n",
      "Skipping line 212696: expected 5 fields, saw 9\n",
      "Skipping line 212700: expected 5 fields, saw 35\n",
      "Skipping line 212704: expected 5 fields, saw 9\n",
      "Skipping line 212736: expected 5 fields, saw 26\n",
      "Skipping line 212737: expected 5 fields, saw 12\n",
      "Skipping line 212738: expected 5 fields, saw 34\n",
      "Skipping line 212740: expected 5 fields, saw 7\n",
      "Skipping line 212741: expected 5 fields, saw 11\n",
      "Skipping line 212742: expected 5 fields, saw 11\n",
      "Skipping line 212743: expected 5 fields, saw 12\n",
      "Skipping line 212744: expected 5 fields, saw 11\n",
      "Skipping line 212745: expected 5 fields, saw 10\n",
      "Skipping line 212746: expected 5 fields, saw 17\n",
      "Skipping line 212747: expected 5 fields, saw 10\n",
      "Skipping line 212748: expected 5 fields, saw 21\n",
      "Skipping line 212749: expected 5 fields, saw 14\n",
      "Skipping line 212755: expected 5 fields, saw 9\n",
      "Skipping line 212756: expected 5 fields, saw 10\n",
      "Skipping line 212757: expected 5 fields, saw 14\n",
      "Skipping line 212758: expected 5 fields, saw 10\n",
      "Skipping line 212759: expected 5 fields, saw 7\n",
      "Skipping line 212760: expected 5 fields, saw 17\n",
      "Skipping line 212768: expected 5 fields, saw 9\n",
      "Skipping line 212774: expected 5 fields, saw 12\n",
      "Skipping line 212775: expected 5 fields, saw 11\n",
      "Skipping line 212784: expected 5 fields, saw 11\n",
      "Skipping line 212790: expected 5 fields, saw 29\n",
      "Skipping line 212791: expected 5 fields, saw 12\n",
      "Skipping line 212888: expected 5 fields, saw 12\n",
      "Skipping line 212895: expected 5 fields, saw 7\n",
      "Skipping line 212901: expected 5 fields, saw 8\n",
      "Skipping line 212909: expected 5 fields, saw 21\n",
      "Skipping line 212910: expected 5 fields, saw 19\n",
      "Skipping line 212912: expected 5 fields, saw 19\n",
      "Skipping line 212913: expected 5 fields, saw 14\n",
      "Skipping line 212914: expected 5 fields, saw 19\n",
      "Skipping line 212915: expected 5 fields, saw 19\n",
      "Skipping line 212916: expected 5 fields, saw 12\n",
      "Skipping line 212918: expected 5 fields, saw 18\n",
      "Skipping line 220002: expected 5 fields, saw 6\n",
      "Skipping line 223476: expected 5 fields, saw 6\n",
      "Skipping line 223670: expected 5 fields, saw 6\n",
      "Skipping line 227241: expected 5 fields, saw 6\n",
      "Skipping line 227687: expected 5 fields, saw 6\n",
      "Skipping line 227795: expected 5 fields, saw 6\n",
      "Skipping line 227850: expected 5 fields, saw 6\n",
      "Skipping line 228956: expected 5 fields, saw 6\n",
      "Skipping line 229142: expected 5 fields, saw 6\n",
      "Skipping line 229252: expected 5 fields, saw 6\n",
      "Skipping line 229283: expected 5 fields, saw 6\n",
      "Skipping line 229343: expected 5 fields, saw 6\n",
      "Skipping line 237190: expected 5 fields, saw 6\n",
      "Skipping line 237212: expected 5 fields, saw 6\n",
      "Skipping line 237475: expected 5 fields, saw 6\n",
      "Skipping line 237680: expected 5 fields, saw 6\n",
      "Skipping line 239909: expected 5 fields, saw 6\n",
      "Skipping line 242513: expected 5 fields, saw 6\n",
      "Skipping line 242621: expected 5 fields, saw 6\n",
      "Skipping line 252471: expected 5 fields, saw 10\n",
      "Skipping line 254823: expected 5 fields, saw 6\n",
      "Skipping line 257362: expected 5 fields, saw 6\n",
      "Skipping line 260304: expected 5 fields, saw 11\n",
      "Skipping line 261241: expected 5 fields, saw 11\n",
      "Skipping line 261309: expected 5 fields, saw 6\n",
      "Skipping line 261343: expected 5 fields, saw 6\n",
      "Skipping line 261432: expected 5 fields, saw 6\n",
      "Skipping line 261461: expected 5 fields, saw 6\n",
      "Skipping line 261520: expected 5 fields, saw 14\n",
      "Skipping line 261521: expected 5 fields, saw 13\n",
      "Skipping line 261525: expected 5 fields, saw 13\n",
      "Skipping line 261533: expected 5 fields, saw 6\n",
      "Skipping line 261558: expected 5 fields, saw 7\n",
      "Skipping line 261560: expected 5 fields, saw 7\n",
      "Skipping line 262063: expected 5 fields, saw 6\n",
      "Skipping line 262098: expected 5 fields, saw 6\n",
      "\n",
      "Skipping line 269343: expected 5 fields, saw 6\n",
      "Skipping line 269435: expected 5 fields, saw 6\n",
      "Skipping line 278994: expected 5 fields, saw 9\n",
      "Skipping line 278995: expected 5 fields, saw 9\n",
      "Skipping line 278996: expected 5 fields, saw 15\n",
      "Skipping line 279001: expected 5 fields, saw 15\n",
      "Skipping line 279038: expected 5 fields, saw 16\n",
      "Skipping line 279040: expected 5 fields, saw 10\n",
      "Skipping line 279041: expected 5 fields, saw 19\n",
      "Skipping line 279045: expected 5 fields, saw 13\n",
      "Skipping line 279047: expected 5 fields, saw 9\n",
      "Skipping line 279058: expected 5 fields, saw 10\n",
      "Skipping line 279069: expected 5 fields, saw 11\n",
      "Skipping line 279087: expected 5 fields, saw 11\n",
      "Skipping line 279094: expected 5 fields, saw 12\n",
      "Skipping line 279116: expected 5 fields, saw 22\n",
      "Skipping line 279131: expected 5 fields, saw 16\n",
      "Skipping line 279152: expected 5 fields, saw 10\n",
      "Skipping line 279155: expected 5 fields, saw 19\n",
      "Skipping line 279159: expected 5 fields, saw 9\n",
      "Skipping line 279199: expected 5 fields, saw 36\n",
      "Skipping line 279211: expected 5 fields, saw 9\n",
      "Skipping line 279213: expected 5 fields, saw 13\n",
      "Skipping line 279214: expected 5 fields, saw 9\n",
      "Skipping line 279233: expected 5 fields, saw 14\n",
      "Skipping line 279253: expected 5 fields, saw 15\n",
      "Skipping line 279345: expected 5 fields, saw 13\n",
      "Skipping line 279346: expected 5 fields, saw 10\n",
      "Skipping line 279379: expected 5 fields, saw 9\n",
      "Skipping line 279434: expected 5 fields, saw 17\n",
      "Skipping line 279440: expected 5 fields, saw 14\n",
      "Skipping line 279442: expected 5 fields, saw 14\n",
      "Skipping line 279443: expected 5 fields, saw 10\n",
      "Skipping line 279452: expected 5 fields, saw 16\n",
      "Skipping line 279455: expected 5 fields, saw 9\n",
      "Skipping line 279456: expected 5 fields, saw 12\n",
      "Skipping line 279457: expected 5 fields, saw 10\n",
      "Skipping line 279458: expected 5 fields, saw 10\n",
      "\n"
     ]
    }
   ],
   "source": [
    "lines_cols = [\"lineID\", \"characterID\", \"movieID\", \"charName\", \"aText\"]\n",
    "lines = pd.read_csv(\n",
    "    \"data/initial_data/movie_lines.tsv\", \n",
    "    sep=\"\\t\",\n",
    "    header=None,\n",
    "    on_bad_lines = 'warn'\n",
    ")\n",
    "lines.columns=lines_cols"
   ]
  },
  {
   "cell_type": "code",
   "execution_count": 43,
   "metadata": {},
   "outputs": [
    {
     "data": {
      "text/html": [
       "<div>\n",
       "<style scoped>\n",
       "    .dataframe tbody tr th:only-of-type {\n",
       "        vertical-align: middle;\n",
       "    }\n",
       "\n",
       "    .dataframe tbody tr th {\n",
       "        vertical-align: top;\n",
       "    }\n",
       "\n",
       "    .dataframe thead th {\n",
       "        text-align: right;\n",
       "    }\n",
       "</style>\n",
       "<table border=\"1\" class=\"dataframe\">\n",
       "  <thead>\n",
       "    <tr style=\"text-align: right;\">\n",
       "      <th></th>\n",
       "      <th>lineID</th>\n",
       "      <th>characterID</th>\n",
       "      <th>movieID</th>\n",
       "      <th>charName</th>\n",
       "      <th>aText</th>\n",
       "    </tr>\n",
       "  </thead>\n",
       "  <tbody>\n",
       "    <tr>\n",
       "      <th>256785</th>\n",
       "      <td>L549915</td>\n",
       "      <td>u7883</td>\n",
       "      <td>m533</td>\n",
       "      <td>JACKIE</td>\n",
       "      <td>You think &lt;u&gt;I&lt;/u&gt; didn't have some dirty word...</td>\n",
       "    </tr>\n",
       "    <tr>\n",
       "      <th>236515</th>\n",
       "      <td>L473112</td>\n",
       "      <td>u7311</td>\n",
       "      <td>m494</td>\n",
       "      <td>DEIRDRE</td>\n",
       "      <td>I'm a patriate.</td>\n",
       "    </tr>\n",
       "    <tr>\n",
       "      <th>46671</th>\n",
       "      <td>L295842</td>\n",
       "      <td>u1413</td>\n",
       "      <td>m94</td>\n",
       "      <td>BERT</td>\n",
       "      <td>Level with me Eddie. You ever play billiards b...</td>\n",
       "    </tr>\n",
       "    <tr>\n",
       "      <th>126403</th>\n",
       "      <td>L53511</td>\n",
       "      <td>u3801</td>\n",
       "      <td>m251</td>\n",
       "      <td>CHRIS</td>\n",
       "      <td>That makes you an expert I guess.</td>\n",
       "    </tr>\n",
       "    <tr>\n",
       "      <th>147939</th>\n",
       "      <td>L127405</td>\n",
       "      <td>u4440</td>\n",
       "      <td>m294</td>\n",
       "      <td>MISS DUNLOP</td>\n",
       "      <td>Hi Jody. What can I DO for you?</td>\n",
       "    </tr>\n",
       "  </tbody>\n",
       "</table>\n",
       "</div>"
      ],
      "text/plain": [
       "         lineID characterID movieID     charName  \\\n",
       "256785  L549915       u7883    m533       JACKIE   \n",
       "236515  L473112       u7311    m494      DEIRDRE   \n",
       "46671   L295842       u1413     m94         BERT   \n",
       "126403   L53511       u3801    m251        CHRIS   \n",
       "147939  L127405       u4440    m294  MISS DUNLOP   \n",
       "\n",
       "                                                    aText  \n",
       "256785  You think <u>I</u> didn't have some dirty word...  \n",
       "236515                                    I'm a patriate.  \n",
       "46671   Level with me Eddie. You ever play billiards b...  \n",
       "126403                  That makes you an expert I guess.  \n",
       "147939                    Hi Jody. What can I DO for you?  "
      ]
     },
     "execution_count": 43,
     "metadata": {},
     "output_type": "execute_result"
    }
   ],
   "source": [
    "lines.sample(5)"
   ]
  },
  {
   "cell_type": "code",
   "execution_count": 44,
   "metadata": {},
   "outputs": [],
   "source": [
    "title_cols = [\"movieID\", \"title\", \"year\", \"rating\", \"no.votes\", \"genres\"]\n",
    "titles = pd.read_csv(\n",
    "    \"data/initial_data/movie_titles_metadata.tsv\", \n",
    "    sep=\"\\t\",\n",
    "    header=None,\n",
    "    on_bad_lines = 'warn'\n",
    ")\n",
    "titles.columns=title_cols"
   ]
  },
  {
   "cell_type": "code",
   "execution_count": 45,
   "metadata": {},
   "outputs": [
    {
     "data": {
      "text/html": [
       "<div>\n",
       "<style scoped>\n",
       "    .dataframe tbody tr th:only-of-type {\n",
       "        vertical-align: middle;\n",
       "    }\n",
       "\n",
       "    .dataframe tbody tr th {\n",
       "        vertical-align: top;\n",
       "    }\n",
       "\n",
       "    .dataframe thead th {\n",
       "        text-align: right;\n",
       "    }\n",
       "</style>\n",
       "<table border=\"1\" class=\"dataframe\">\n",
       "  <thead>\n",
       "    <tr style=\"text-align: right;\">\n",
       "      <th></th>\n",
       "      <th>movieID</th>\n",
       "      <th>title</th>\n",
       "      <th>year</th>\n",
       "      <th>rating</th>\n",
       "      <th>no.votes</th>\n",
       "      <th>genres</th>\n",
       "    </tr>\n",
       "  </thead>\n",
       "  <tbody>\n",
       "    <tr>\n",
       "      <th>0</th>\n",
       "      <td>m0</td>\n",
       "      <td>10 things i hate about you</td>\n",
       "      <td>1999</td>\n",
       "      <td>6.9</td>\n",
       "      <td>62847.0</td>\n",
       "      <td>['comedy' 'romance']</td>\n",
       "    </tr>\n",
       "    <tr>\n",
       "      <th>1</th>\n",
       "      <td>m1</td>\n",
       "      <td>1492: conquest of paradise</td>\n",
       "      <td>1992</td>\n",
       "      <td>6.2</td>\n",
       "      <td>10421.0</td>\n",
       "      <td>['adventure' 'biography' 'drama' 'history']</td>\n",
       "    </tr>\n",
       "    <tr>\n",
       "      <th>2</th>\n",
       "      <td>m2</td>\n",
       "      <td>15 minutes</td>\n",
       "      <td>2001</td>\n",
       "      <td>6.1</td>\n",
       "      <td>25854.0</td>\n",
       "      <td>['action' 'crime' 'drama' 'thriller']</td>\n",
       "    </tr>\n",
       "    <tr>\n",
       "      <th>3</th>\n",
       "      <td>m3</td>\n",
       "      <td>2001: a space odyssey</td>\n",
       "      <td>1968</td>\n",
       "      <td>8.4</td>\n",
       "      <td>163227.0</td>\n",
       "      <td>['adventure' 'mystery' 'sci-fi']</td>\n",
       "    </tr>\n",
       "    <tr>\n",
       "      <th>4</th>\n",
       "      <td>m4</td>\n",
       "      <td>48 hrs.</td>\n",
       "      <td>1982</td>\n",
       "      <td>6.9</td>\n",
       "      <td>22289.0</td>\n",
       "      <td>['action' 'comedy' 'crime' 'drama' 'thriller']</td>\n",
       "    </tr>\n",
       "  </tbody>\n",
       "</table>\n",
       "</div>"
      ],
      "text/plain": [
       "  movieID                       title  year  rating  no.votes  \\\n",
       "0      m0  10 things i hate about you  1999     6.9   62847.0   \n",
       "1      m1  1492: conquest of paradise  1992     6.2   10421.0   \n",
       "2      m2                  15 minutes  2001     6.1   25854.0   \n",
       "3      m3       2001: a space odyssey  1968     8.4  163227.0   \n",
       "4      m4                     48 hrs.  1982     6.9   22289.0   \n",
       "\n",
       "                                           genres  \n",
       "0                            ['comedy' 'romance']  \n",
       "1     ['adventure' 'biography' 'drama' 'history']  \n",
       "2           ['action' 'crime' 'drama' 'thriller']  \n",
       "3                ['adventure' 'mystery' 'sci-fi']  \n",
       "4  ['action' 'comedy' 'crime' 'drama' 'thriller']  "
      ]
     },
     "execution_count": 45,
     "metadata": {},
     "output_type": "execute_result"
    }
   ],
   "source": [
    "titles.head()"
   ]
  },
  {
   "attachments": {},
   "cell_type": "markdown",
   "metadata": {},
   "source": [
    "#### PrepareData"
   ]
  },
  {
   "cell_type": "code",
   "execution_count": 46,
   "metadata": {},
   "outputs": [],
   "source": [
    "MAX_DIALOG_LEN = 10\n",
    "def get_line(line_list: list[str]):\n",
    "    df = lines.loc[lines['lineID'].isin(line_list)]\n",
    "    chars = df[\"charName\"].unique()\n",
    "    dialog_line = df[\"aText\"][::-1].values # reversed because pandas sort that way\n",
    "    dialog_line = dialog_line[:MAX_DIALOG_LEN]\n",
    "    return dialog_line, chars"
   ]
  },
  {
   "cell_type": "code",
   "execution_count": 47,
   "metadata": {},
   "outputs": [],
   "source": [
    "dialog_line_chars = conversations[\"conv_list\"].apply(lambda x: get_line(x))"
   ]
  },
  {
   "cell_type": "code",
   "execution_count": 48,
   "metadata": {},
   "outputs": [],
   "source": [
    "df = conversations.copy()\n",
    "df_merged = df.merge(titles, left_on=\"movieID\", right_on=\"movieID\", how=\"left\")"
   ]
  },
  {
   "cell_type": "code",
   "execution_count": 87,
   "metadata": {},
   "outputs": [],
   "source": [
    "df_final = df_merged[[\"title\", \"genres\"]].copy()\n",
    "df_final[\"lines_chars\"] = dialog_line_chars"
   ]
  },
  {
   "cell_type": "code",
   "execution_count": 94,
   "metadata": {},
   "outputs": [],
   "source": [
    "def try_eval(string):\n",
    "    try:\n",
    "        return pd.eval(string)\n",
    "    except:\n",
    "        pass\n",
    "df_final['genres'] = df_final['genres'].str.replace(\" \", \",\").apply(try_eval);"
   ]
  },
  {
   "cell_type": "code",
   "execution_count": 95,
   "metadata": {},
   "outputs": [
    {
     "data": {
      "text/html": [
       "<div>\n",
       "<style scoped>\n",
       "    .dataframe tbody tr th:only-of-type {\n",
       "        vertical-align: middle;\n",
       "    }\n",
       "\n",
       "    .dataframe tbody tr th {\n",
       "        vertical-align: top;\n",
       "    }\n",
       "\n",
       "    .dataframe thead th {\n",
       "        text-align: right;\n",
       "    }\n",
       "</style>\n",
       "<table border=\"1\" class=\"dataframe\">\n",
       "  <thead>\n",
       "    <tr style=\"text-align: right;\">\n",
       "      <th></th>\n",
       "      <th>title</th>\n",
       "      <th>genres</th>\n",
       "      <th>lines_chars</th>\n",
       "    </tr>\n",
       "  </thead>\n",
       "  <tbody>\n",
       "    <tr>\n",
       "      <th>0</th>\n",
       "      <td>10 things i hate about you</td>\n",
       "      <td>[comedy, romance]</td>\n",
       "      <td>([Can we make this quick?  Roxanne Korrine and...</td>\n",
       "    </tr>\n",
       "    <tr>\n",
       "      <th>1</th>\n",
       "      <td>10 things i hate about you</td>\n",
       "      <td>[comedy, romance]</td>\n",
       "      <td>([You're asking me out.  That's so cute. What'...</td>\n",
       "    </tr>\n",
       "    <tr>\n",
       "      <th>2</th>\n",
       "      <td>10 things i hate about you</td>\n",
       "      <td>[comedy, romance]</td>\n",
       "      <td>([No no it's my fault -- we didn't have a prop...</td>\n",
       "    </tr>\n",
       "    <tr>\n",
       "      <th>3</th>\n",
       "      <td>10 things i hate about you</td>\n",
       "      <td>[comedy, romance]</td>\n",
       "      <td>([Why?, Unsolved mystery.  She used to be real...</td>\n",
       "    </tr>\n",
       "    <tr>\n",
       "      <th>4</th>\n",
       "      <td>10 things i hate about you</td>\n",
       "      <td>[comedy, romance]</td>\n",
       "      <td>([Gosh if only we could find Kat a boyfriend.....</td>\n",
       "    </tr>\n",
       "  </tbody>\n",
       "</table>\n",
       "</div>"
      ],
      "text/plain": [
       "                        title             genres  \\\n",
       "0  10 things i hate about you  [comedy, romance]   \n",
       "1  10 things i hate about you  [comedy, romance]   \n",
       "2  10 things i hate about you  [comedy, romance]   \n",
       "3  10 things i hate about you  [comedy, romance]   \n",
       "4  10 things i hate about you  [comedy, romance]   \n",
       "\n",
       "                                         lines_chars  \n",
       "0  ([Can we make this quick?  Roxanne Korrine and...  \n",
       "1  ([You're asking me out.  That's so cute. What'...  \n",
       "2  ([No no it's my fault -- we didn't have a prop...  \n",
       "3  ([Why?, Unsolved mystery.  She used to be real...  \n",
       "4  ([Gosh if only we could find Kat a boyfriend.....  "
      ]
     },
     "execution_count": 95,
     "metadata": {},
     "output_type": "execute_result"
    }
   ],
   "source": [
    "df_final.head()"
   ]
  },
  {
   "cell_type": "code",
   "execution_count": 96,
   "metadata": {},
   "outputs": [],
   "source": [
    "df_final.to_parquet(\"data/prepared_data/prepared.parquet\")"
   ]
  },
  {
   "attachments": {},
   "cell_type": "markdown",
   "metadata": {},
   "source": [
    "### Ray Serve Realisation"
   ]
  },
  {
   "cell_type": "code",
   "execution_count": 1,
   "metadata": {},
   "outputs": [
    {
     "name": "stderr",
     "output_type": "stream",
     "text": [
      "/home/dmitry/.cache/pypoetry/virtualenvs/homework-2-yr0A23hy-py3.10/lib/python3.10/site-packages/tqdm/auto.py:21: TqdmWarning: IProgress not found. Please update jupyter and ipywidgets. See https://ipywidgets.readthedocs.io/en/stable/user_install.html\n",
      "  from .autonotebook import tqdm as notebook_tqdm\n"
     ]
    }
   ],
   "source": [
    "import pandas as pd\n",
    "import numpy as np\n",
    "from transformers import pipeline "
   ]
  },
  {
   "cell_type": "code",
   "execution_count": 2,
   "metadata": {},
   "outputs": [],
   "source": [
    "data = pd.read_parquet(\"data/prepared_data/prepared.parquet\")"
   ]
  },
  {
   "cell_type": "code",
   "execution_count": 3,
   "metadata": {},
   "outputs": [],
   "source": [
    "arr = list(data[\"lines_chars\"][0][0])\n",
    "string = data[\"lines_chars\"][0][0][0]\n",
    "# frame = pd.DataFrame(data[\"lines_chars\"][0][0])\n",
    "# batch = [arr,arr]"
   ]
  },
  {
   "cell_type": "code",
   "execution_count": 4,
   "metadata": {},
   "outputs": [
    {
     "name": "stderr",
     "output_type": "stream",
     "text": [
      "2023-06-16 23:12:35,903\tINFO worker.py:1627 -- Started a local Ray instance. View the dashboard at \u001b[1m\u001b[32mhttp://127.0.0.1:8265 \u001b[39m\u001b[22m\n"
     ]
    },
    {
     "data": {
      "text/plain": [
       "<ray.serve._private.client.ServeControllerClient at 0x7fa781e41480>"
      ]
     },
     "execution_count": 4,
     "metadata": {},
     "output_type": "execute_result"
    }
   ],
   "source": [
    "import ray \n",
    "from ray import serve\n",
    "from starlette.requests import Request\n",
    "\n",
    "ray.init()\n",
    "serve.start()"
   ]
  },
  {
   "cell_type": "code",
   "execution_count": 11,
   "metadata": {},
   "outputs": [
    {
     "name": "stderr",
     "output_type": "stream",
     "text": [
      "\u001b[2m\u001b[36m(ServeController pid=28708)\u001b[0m INFO 2023-06-16 23:15:42,245 controller 28708 deployment_state.py:1298 - Deploying new version of deployment sentiment_pipeline.\n",
      "\u001b[2m\u001b[36m(ServeReplica:sentiment_pipeline pid=29039)\u001b[0m INFO 2023-06-16 23:15:42,245 controller 28708 deployment_state.py:1298 - Deploying new version of deployment sentiment_pipeline.\n",
      "\u001b[2m\u001b[36m(ServeReplica:sentiment_pipeline pid=29039)\u001b[0m INFO 2023-06-16 23:15:42,245 controller 28708 deployment_state.py:1298 - Deploying new version of deployment sentiment_pipeline.\n",
      "\u001b[2m\u001b[36m(ServeReplica:sentiment_pipeline pid=29039)\u001b[0m INFO 2023-06-16 23:15:42,245 controller 28708 deployment_state.py:1298 - Deploying new version of deployment sentiment_pipeline.\n",
      "\u001b[2m\u001b[36m(ServeReplica:sentiment_pipeline pid=29039)\u001b[0m INFO 2023-06-16 23:15:42,245 controller 28708 deployment_state.py:1298 - Deploying new version of deployment sentiment_pipeline.\n",
      "\u001b[2m\u001b[36m(ServeReplica:sentiment_pipeline pid=29039)\u001b[0m INFO 2023-06-16 23:15:42,245 controller 28708 deployment_state.py:1298 - Deploying new version of deployment sentiment_pipeline.\n",
      "\u001b[2m\u001b[36m(ServeReplica:sentiment_pipeline pid=29039)\u001b[0m INFO 2023-06-16 23:15:42,245 controller 28708 deployment_state.py:1298 - Deploying new version of deployment sentiment_pipeline.\n",
      "\u001b[2m\u001b[36m(ServeController pid=28708)\u001b[0m INFO 2023-06-16 23:15:42,337 controller 28708 deployment_state.py:1425 - Stopping 1 replicas of deployment 'sentiment_pipeline' with outdated versions.\n",
      "\u001b[2m\u001b[36m(ServeController pid=28708)\u001b[0m INFO 2023-06-16 23:15:44,510 controller 28708 deployment_state.py:1537 - Adding 1 replica to deployment sentiment_pipeline.\n",
      "\u001b[2m\u001b[36m(ServeReplica:sentiment_pipeline pid=29110)\u001b[0m emoji is not installed, thus not converting emoticons or emojis into text. Install emoji: pip3 install emoji==0.6.0\n",
      "\u001b[2m\u001b[36m(ServeReplica:sentiment_pipeline pid=29110)\u001b[0m Xformers is not installed correctly. If you want to use memory_efficient_attention to accelerate training use the following command to install Xformers\n",
      "\u001b[2m\u001b[36m(ServeReplica:sentiment_pipeline pid=29110)\u001b[0m pip install xformers.\n"
     ]
    }
   ],
   "source": [
    "import json\n",
    "@serve.deployment(route_prefix=\"/\")\n",
    "class sentiment_pipeline:\n",
    "\n",
    "    def __init__(self):\n",
    "        self.pipeline = pipeline(\n",
    "            model=\"finiteautomata/bertweet-base-sentiment-analysis\"\n",
    "        )\n",
    "\n",
    "    def _unswer(self, text):\n",
    "        return self.pipeline(text)[0]\n",
    "\n",
    "    def __call__(self, request: Request) -> str:\n",
    "        data = request.query_params[\"data\"]\n",
    "        text = json.loads(data)\n",
    "        unswers = []\n",
    "        if isinstance(text, list):\n",
    "            for i, value in enumerate(text):\n",
    "                unswer = self._unswer(text)\n",
    "                unswer[\"sentence\"] = i\n",
    "                unswers.append(unswer)\n",
    "        elif isinstance(text, str):\n",
    "            unswer = self._unswer(text)\n",
    "            unswer[\"sentence\"] = 0\n",
    "            unswers.append(unswer)\n",
    "        else:\n",
    "            raise TypeError(f\"Unexpected type\")\n",
    "        \n",
    "        return json.dumps(unswers)\n",
    "\n",
    "sentiment_pipeline.deploy()"
   ]
  },
  {
   "cell_type": "code",
   "execution_count": null,
   "metadata": {},
   "outputs": [],
   "source": [
    "import requests\n",
    "import json"
   ]
  },
  {
   "cell_type": "code",
   "execution_count": 17,
   "metadata": {},
   "outputs": [
    {
     "data": {
      "text/plain": [
       "[{'label': 'NEG', 'score': 0.9783918261528015, 'sentence': 0}]"
      ]
     },
     "execution_count": 17,
     "metadata": {},
     "output_type": "execute_result"
    },
    {
     "name": "stderr",
     "output_type": "stream",
     "text": [
      "\u001b[2m\u001b[36m(ServeReplica:sentiment_pipeline pid=29110)\u001b[0m INFO 2023-06-16 23:17:13,580 sentiment_pipeline sentiment_pipeline#xTlmBN CGUcfFvequ / replica.py:654 - __CALL__ OK 139.5ms\n"
     ]
    }
   ],
   "source": [
    "# for string\n",
    "request = requests.get(\"http://127.0.0.1:8000/\", params={\"data\": json.dumps(string)})\n",
    "json.loads(request.text)"
   ]
  },
  {
   "cell_type": "code",
   "execution_count": 18,
   "metadata": {},
   "outputs": [
    {
     "data": {
      "text/plain": [
       "[{'label': 'NEG', 'score': 0.9783918261528015, 'sentence': 0},\n",
       " {'label': 'NEG', 'score': 0.9783918261528015, 'sentence': 1},\n",
       " {'label': 'NEG', 'score': 0.9783918261528015, 'sentence': 2},\n",
       " {'label': 'NEG', 'score': 0.9783918261528015, 'sentence': 3}]"
      ]
     },
     "execution_count": 18,
     "metadata": {},
     "output_type": "execute_result"
    },
    {
     "name": "stderr",
     "output_type": "stream",
     "text": [
      "\u001b[2m\u001b[36m(ServeReplica:sentiment_pipeline pid=29110)\u001b[0m INFO 2023-06-16 23:17:19,939 sentiment_pipeline sentiment_pipeline#xTlmBN jNbaRVOziT / replica.py:654 - __CALL__ OK 1980.2ms\n"
     ]
    }
   ],
   "source": [
    "# for array\n",
    "request = requests.get(\"http://127.0.0.1:8000/\", params={\"data\": json.dumps(arr)})\n",
    "json.loads(request.text)"
   ]
  },
  {
   "cell_type": "code",
   "execution_count": 23,
   "metadata": {},
   "outputs": [
    {
     "name": "stdout",
     "output_type": "stream",
     "text": [
      "['Yeah', 'What do you think?']\n",
      "[{'label': 'POS', 'score': 0.7530627846717834, 'sentence': 0}, {'label': 'POS', 'score': 0.7530627846717834, 'sentence': 1}]\n"
     ]
    },
    {
     "name": "stderr",
     "output_type": "stream",
     "text": [
      "\u001b[2m\u001b[36m(ServeReplica:sentiment_pipeline pid=29110)\u001b[0m INFO 2023-06-16 23:20:05,614 sentiment_pipeline sentiment_pipeline#xTlmBN dBmlOGZylM / replica.py:654 - __CALL__ OK 303.7ms\n"
     ]
    }
   ],
   "source": [
    "arr = list(data[\"lines_chars\"][100][0])\n",
    "print(arr)\n",
    "\n",
    "# for array\n",
    "request = requests.get(\"http://127.0.0.1:8000/\", params={\"data\": json.dumps(arr)})\n",
    "print(json.loads(request.text))"
   ]
  },
  {
   "cell_type": "code",
   "execution_count": null,
   "metadata": {},
   "outputs": [],
   "source": []
  }
 ],
 "metadata": {
  "kernelspec": {
   "display_name": "homework-2-yr0A23hy-py3.10",
   "language": "python",
   "name": "python3"
  },
  "language_info": {
   "codemirror_mode": {
    "name": "ipython",
    "version": 3
   },
   "file_extension": ".py",
   "mimetype": "text/x-python",
   "name": "python",
   "nbconvert_exporter": "python",
   "pygments_lexer": "ipython3",
   "version": "3.10.6"
  },
  "orig_nbformat": 4
 },
 "nbformat": 4,
 "nbformat_minor": 2
}
